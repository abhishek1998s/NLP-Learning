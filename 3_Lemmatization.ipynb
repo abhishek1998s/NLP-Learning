{
  "nbformat": 4,
  "nbformat_minor": 0,
  "metadata": {
    "colab": {
      "provenance": [],
      "authorship_tag": "ABX9TyMiQD5EPmWtcauuq4WwhR84",
      "include_colab_link": true
    },
    "kernelspec": {
      "name": "python3",
      "display_name": "Python 3"
    },
    "language_info": {
      "name": "python"
    }
  },
  "cells": [
    {
      "cell_type": "markdown",
      "metadata": {
        "id": "view-in-github",
        "colab_type": "text"
      },
      "source": [
        "<a href=\"https://colab.research.google.com/github/abhishek1998s/NLP-Learning/blob/main/3_Lemmatization.ipynb\" target=\"_parent\"><img src=\"https://colab.research.google.com/assets/colab-badge.svg\" alt=\"Open In Colab\"/></a>"
      ]
    },
    {
      "cell_type": "markdown",
      "source": [
        "**Lemmatization**\n",
        "\n",
        "It's a technique like stemming.\n",
        "The output we will get after lemmatization is called 'lemma',which is a root word rather than the root stem, the output of stemming.\n",
        "\n",
        "Difference between stemming and lemmatization is:-\n",
        "While both aim to reduce words, stemming may produce non-real words, whereas lemmatization ensures valid words by considering the context."
      ],
      "metadata": {
        "id": "hntqjKxnHBMF"
      }
    },
    {
      "cell_type": "markdown",
      "source": [
        "**WordNet Lemmatizer**\n",
        "\n",
        "WordNet Lemmatizer is class which is a thin wrapper around the wordnet corpus.This class uses morphy() function to the wordnet corpusreader class to find the lemma."
      ],
      "metadata": {
        "id": "uMAuuvrlIOWf"
      }
    },
    {
      "cell_type": "code",
      "execution_count": 3,
      "metadata": {
        "colab": {
          "base_uri": "https://localhost:8080/"
        },
        "id": "dql-xo0dFmy_",
        "outputId": "c6ea7da7-58ea-42f2-8b4f-b64d118c6e0f"
      },
      "outputs": [
        {
          "output_type": "stream",
          "name": "stderr",
          "text": [
            "[nltk_data] Downloading package wordnet to /root/nltk_data...\n"
          ]
        }
      ],
      "source": [
        "from nltk.stem import WordNetLemmatizer\n",
        "import nltk\n",
        "nltk.download('wordnet')\n",
        "lemmatizer = WordNetLemmatizer()"
      ]
    },
    {
      "cell_type": "code",
      "source": [
        "lemmatizer.lemmatize('going')"
      ],
      "metadata": {
        "colab": {
          "base_uri": "https://localhost:8080/",
          "height": 38
        },
        "id": "dGCgHaQCJJ12",
        "outputId": "25aef8bc-cb04-4164-be20-7b2bf99dd6f5"
      },
      "execution_count": 4,
      "outputs": [
        {
          "output_type": "execute_result",
          "data": {
            "text/plain": [
              "'going'"
            ],
            "application/vnd.google.colaboratory.intrinsic+json": {
              "type": "string"
            }
          },
          "metadata": {},
          "execution_count": 4
        }
      ]
    },
    {
      "cell_type": "markdown",
      "source": [
        "**Pos**\n",
        "\n",
        "noun=n\n",
        "verb=v\n",
        "adverb=r\n",
        "adjective=a"
      ],
      "metadata": {
        "id": "gxGZ30rwKMz9"
      }
    },
    {
      "cell_type": "code",
      "source": [
        "lemmatizer.lemmatize('going',pos='v')"
      ],
      "metadata": {
        "colab": {
          "base_uri": "https://localhost:8080/",
          "height": 38
        },
        "id": "VGMm0NrmJVde",
        "outputId": "59afa8db-3e78-410c-d1b2-4284d21e8591"
      },
      "execution_count": 5,
      "outputs": [
        {
          "output_type": "execute_result",
          "data": {
            "text/plain": [
              "'go'"
            ],
            "application/vnd.google.colaboratory.intrinsic+json": {
              "type": "string"
            }
          },
          "metadata": {},
          "execution_count": 5
        }
      ]
    },
    {
      "cell_type": "code",
      "source": [
        "words = [\"running\", \"jumps\", \"happily\", \"running\", \"happily\"]"
      ],
      "metadata": {
        "id": "Rfd9l7y7KZfb"
      },
      "execution_count": 6,
      "outputs": []
    },
    {
      "cell_type": "code",
      "source": [
        "for word in words:\n",
        "  print(word+\"-->\"+lemmatizer.lemmatize(word,pos='n'))"
      ],
      "metadata": {
        "colab": {
          "base_uri": "https://localhost:8080/"
        },
        "id": "p8c7yXt1K73l",
        "outputId": "e4985938-2f99-4dee-98e2-cda42b04733f"
      },
      "execution_count": 10,
      "outputs": [
        {
          "output_type": "stream",
          "name": "stdout",
          "text": [
            "running-->running\n",
            "jumps-->jump\n",
            "happily-->happily\n",
            "running-->running\n",
            "happily-->happily\n"
          ]
        }
      ]
    },
    {
      "cell_type": "code",
      "source": [
        "for word in words:\n",
        "  print(word+\"-->\"+lemmatizer.lemmatize(word,pos='v'))"
      ],
      "metadata": {
        "colab": {
          "base_uri": "https://localhost:8080/"
        },
        "id": "K1rR72psLI9s",
        "outputId": "6a57ae5b-978c-4d89-e460-bf5fdd5aa3aa"
      },
      "execution_count": 11,
      "outputs": [
        {
          "output_type": "stream",
          "name": "stdout",
          "text": [
            "running-->run\n",
            "jumps-->jump\n",
            "happily-->happily\n",
            "running-->run\n",
            "happily-->happily\n"
          ]
        }
      ]
    },
    {
      "cell_type": "code",
      "source": [
        "for word in words:\n",
        "  print(word+\"-->\"+lemmatizer.lemmatize(word,pos='a'))"
      ],
      "metadata": {
        "colab": {
          "base_uri": "https://localhost:8080/"
        },
        "id": "cQfcjKehLf3F",
        "outputId": "f968d1ae-0e31-4110-a86d-b2510f6ac7f4"
      },
      "execution_count": 13,
      "outputs": [
        {
          "output_type": "stream",
          "name": "stdout",
          "text": [
            "running-->running\n",
            "jumps-->jumps\n",
            "happily-->happily\n",
            "running-->running\n",
            "happily-->happily\n"
          ]
        }
      ]
    },
    {
      "cell_type": "code",
      "source": [
        "##use case\n",
        "##Q&A,chatbot,text summarization"
      ],
      "metadata": {
        "id": "YWedBv6ILiW2"
      },
      "execution_count": 14,
      "outputs": []
    },
    {
      "cell_type": "code",
      "source": [],
      "metadata": {
        "id": "CFmNNF_xMFVu"
      },
      "execution_count": null,
      "outputs": []
    }
  ]
}