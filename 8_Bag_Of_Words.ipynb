{
  "nbformat": 4,
  "nbformat_minor": 0,
  "metadata": {
    "colab": {
      "provenance": [],
      "authorship_tag": "ABX9TyMB1uqtxHS4EwNSiKBcbtg9",
      "include_colab_link": true
    },
    "kernelspec": {
      "name": "python3",
      "display_name": "Python 3"
    },
    "language_info": {
      "name": "python"
    }
  },
  "cells": [
    {
      "cell_type": "markdown",
      "metadata": {
        "id": "view-in-github",
        "colab_type": "text"
      },
      "source": [
        "<a href=\"https://colab.research.google.com/github/abhishek1998s/NLP-Learning/blob/main/8_Bag_Of_Words.ipynb\" target=\"_parent\"><img src=\"https://colab.research.google.com/assets/colab-badge.svg\" alt=\"Open In Colab\"/></a>"
      ]
    },
    {
      "cell_type": "markdown",
      "source": [
        "The Bag of Words (BoW) model is a fundamental technique in natural language processing (NLP) used to represent text data. It is a simple and effective way to convert text into numerical features that can be used by machine learning algorithms.\n",
        "\n",
        "**How Bag of Words Works**\n",
        "\n",
        "**Text Preprocessing:**\n",
        "\n",
        "*   Tokenization: Split the text into individual words or tokens.\n",
        "*   Normalization: Convert all words to lowercase to ensure uniformity.\n",
        "Stopword Removal: Optionally remove common words (e.g., \"and\", \"the\") that may not carry significant meaning.\n",
        "*   Stemming/Lemmatization: Optionally reduce words to their base or root form.\n",
        "\n",
        "**Vocabulary Creation:**\n",
        "Create a vocabulary, which is a list of all unique words present in the corpus (the collection of documents).\n",
        "\n",
        "**Vectorization:**\n",
        "For each document, create a vector of the same length as the vocabulary.\n",
        "Each position in the vector corresponds to a word in the vocabulary.\n",
        "The value at each position is the count (or frequency) of the word in the document."
      ],
      "metadata": {
        "id": "rx9emoj1J9KP"
      }
    },
    {
      "cell_type": "code",
      "execution_count": 1,
      "metadata": {
        "id": "po3HkNfHCo7U"
      },
      "outputs": [],
      "source": [
        "from sklearn.feature_extraction.text import CountVectorizer"
      ]
    },
    {
      "cell_type": "code",
      "source": [
        "documents = [\n",
        "    \"This is the first document.\",\n",
        "    \"This document is the second document.\",\n",
        "    \"And this is the third one.\",\n",
        "    \"Is this the first document?\"\n",
        "]"
      ],
      "metadata": {
        "id": "rwU2LoY5KndU"
      },
      "execution_count": 2,
      "outputs": []
    },
    {
      "cell_type": "code",
      "source": [
        "#creating the count vectorizer instance\n",
        "vectorizer = CountVectorizer()"
      ],
      "metadata": {
        "id": "c9U4VTEZKqSr"
      },
      "execution_count": 4,
      "outputs": []
    },
    {
      "cell_type": "code",
      "source": [
        "#fit and Transform the document\n",
        "bow_matrix = vectorizer.fit_transform(documents)"
      ],
      "metadata": {
        "id": "HMCJuoo_Ksgx"
      },
      "execution_count": 5,
      "outputs": []
    },
    {
      "cell_type": "code",
      "source": [
        "#Convert the array for easier viewing\n",
        "bow_array = bow_matrix.toarray()"
      ],
      "metadata": {
        "id": "IbbkJ-iVK-gn"
      },
      "execution_count": 6,
      "outputs": []
    },
    {
      "cell_type": "code",
      "source": [
        "#get the feature names\n",
        "feature_names = vectorizer.get_feature_names_out()"
      ],
      "metadata": {
        "id": "ldHzqZPRLGht"
      },
      "execution_count": 7,
      "outputs": []
    },
    {
      "cell_type": "code",
      "source": [
        "print('Vocabulary:', feature_names)\n",
        "print('Bag of Words Matrix:')\n",
        "print(bow_array)"
      ],
      "metadata": {
        "colab": {
          "base_uri": "https://localhost:8080/"
        },
        "id": "N5-mjCbBLKh9",
        "outputId": "41b1ce3d-2c8e-456b-bfff-a07f79fa8f8c"
      },
      "execution_count": 8,
      "outputs": [
        {
          "output_type": "stream",
          "name": "stdout",
          "text": [
            "Vocabulary: ['and' 'document' 'first' 'is' 'one' 'second' 'the' 'third' 'this']\n",
            "Bag of Words Matrix:\n",
            "[[0 1 1 1 0 0 1 0 1]\n",
            " [0 2 0 1 0 1 1 0 1]\n",
            " [1 0 0 1 1 0 1 1 1]\n",
            " [0 1 1 1 0 0 1 0 1]]\n"
          ]
        }
      ]
    },
    {
      "cell_type": "code",
      "source": [],
      "metadata": {
        "id": "1y99fzz9LWXd"
      },
      "execution_count": null,
      "outputs": []
    }
  ]
}