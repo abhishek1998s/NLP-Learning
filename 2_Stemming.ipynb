{
  "nbformat": 4,
  "nbformat_minor": 0,
  "metadata": {
    "colab": {
      "provenance": [],
      "authorship_tag": "ABX9TyMPx5ijF/F1fpNaC9/c8xc7",
      "include_colab_link": true
    },
    "kernelspec": {
      "name": "python3",
      "display_name": "Python 3"
    },
    "language_info": {
      "name": "python"
    }
  },
  "cells": [
    {
      "cell_type": "markdown",
      "metadata": {
        "id": "view-in-github",
        "colab_type": "text"
      },
      "source": [
        "<a href=\"https://colab.research.google.com/github/abhishek1998s/NLP-Learning/blob/main/2_Stemming.ipynb\" target=\"_parent\"><img src=\"https://colab.research.google.com/assets/colab-badge.svg\" alt=\"Open In Colab\"/></a>"
      ]
    },
    {
      "cell_type": "code",
      "source": [
        "!pip install nltk"
      ],
      "metadata": {
        "colab": {
          "base_uri": "https://localhost:8080/"
        },
        "id": "BXk4O1l9-sQN",
        "outputId": "8d90cd1a-074a-40ae-9183-96fde7c249ef"
      },
      "execution_count": 4,
      "outputs": [
        {
          "output_type": "stream",
          "name": "stdout",
          "text": [
            "Requirement already satisfied: nltk in /usr/local/lib/python3.10/dist-packages (3.8.1)\n",
            "Requirement already satisfied: click in /usr/local/lib/python3.10/dist-packages (from nltk) (8.1.7)\n",
            "Requirement already satisfied: joblib in /usr/local/lib/python3.10/dist-packages (from nltk) (1.4.2)\n",
            "Requirement already satisfied: regex>=2021.8.3 in /usr/local/lib/python3.10/dist-packages (from nltk) (2024.9.11)\n",
            "Requirement already satisfied: tqdm in /usr/local/lib/python3.10/dist-packages (from nltk) (4.66.6)\n"
          ]
        }
      ]
    },
    {
      "cell_type": "markdown",
      "source": [
        "**Stemming**\n",
        "\n",
        "Stemming is the process of reducing a words to its word stem that affixes to suffixes and prefixes or to the roots of the word known as lemma."
      ],
      "metadata": {
        "id": "vxhUPxqB4v28"
      }
    },
    {
      "cell_type": "code",
      "source": [
        "##classification problem\n",
        "##comments of products has positive or negative word\n",
        "##review--->eating,eat,eaten soo here eat is lemma"
      ],
      "metadata": {
        "id": "bRC7AB0o5Eyl"
      },
      "execution_count": 2,
      "outputs": []
    },
    {
      "cell_type": "code",
      "source": [
        "words = [\"running\", \"jumps\", \"happily\", \"running\", \"happily\"]\n"
      ],
      "metadata": {
        "id": "4DO6GaCu9aAq"
      },
      "execution_count": 3,
      "outputs": []
    },
    {
      "cell_type": "markdown",
      "source": [
        "PorterStemmer"
      ],
      "metadata": {
        "id": "4Soqxv8W-hvm"
      }
    },
    {
      "cell_type": "code",
      "source": [
        " from nltk.stem import PorterStemmer"
      ],
      "metadata": {
        "id": "kSyBNX9n-Jqv"
      },
      "execution_count": 5,
      "outputs": []
    },
    {
      "cell_type": "code",
      "source": [
        "stemmer = PorterStemmer()"
      ],
      "metadata": {
        "id": "OSflvVIQ-1jN"
      },
      "execution_count": 6,
      "outputs": []
    },
    {
      "cell_type": "code",
      "source": [
        "for word in words:\n",
        "  print(word+\"---->\"+stemmer.stem(word))"
      ],
      "metadata": {
        "colab": {
          "base_uri": "https://localhost:8080/"
        },
        "id": "m1V9AvnG-5wF",
        "outputId": "513012cc-12d1-4e4c-ffe6-e68d716cc394"
      },
      "execution_count": 7,
      "outputs": [
        {
          "output_type": "stream",
          "name": "stdout",
          "text": [
            "running---->run\n",
            "jumps---->jump\n",
            "happily---->happili\n",
            "running---->run\n",
            "happily---->happili\n"
          ]
        }
      ]
    },
    {
      "cell_type": "code",
      "source": [
        "stemmer.stem(\"congratulation\")"
      ],
      "metadata": {
        "colab": {
          "base_uri": "https://localhost:8080/",
          "height": 38
        },
        "id": "xlygnsFR_GAC",
        "outputId": "3743cc8b-9dd4-4cfe-cd5f-5151e6288b07"
      },
      "execution_count": 8,
      "outputs": [
        {
          "output_type": "execute_result",
          "data": {
            "text/plain": [
              "'congratul'"
            ],
            "application/vnd.google.colaboratory.intrinsic+json": {
              "type": "string"
            }
          },
          "metadata": {},
          "execution_count": 8
        }
      ]
    },
    {
      "cell_type": "markdown",
      "source": [
        "**RegexStemmer Class**\n",
        "\n",
        "It basically take a single regular expression and remove any prefix or sufix that matches the expression"
      ],
      "metadata": {
        "id": "ZOShUqbJA0FO"
      }
    },
    {
      "cell_type": "code",
      "source": [
        " from nltk.stem import RegexpStemmer\n",
        " reg_stemmer = RegexpStemmer('ing$|s$|e$|able$', min=4)"
      ],
      "metadata": {
        "id": "WzaqHKEz_xtN"
      },
      "execution_count": 9,
      "outputs": []
    },
    {
      "cell_type": "code",
      "source": [
        "reg_stemmer.stem('running')"
      ],
      "metadata": {
        "colab": {
          "base_uri": "https://localhost:8080/",
          "height": 38
        },
        "id": "rUTjjzi9BZ97",
        "outputId": "0d3efc0d-a9e8-4ac0-ac46-41b701b02b15"
      },
      "execution_count": 10,
      "outputs": [
        {
          "output_type": "execute_result",
          "data": {
            "text/plain": [
              "'runn'"
            ],
            "application/vnd.google.colaboratory.intrinsic+json": {
              "type": "string"
            }
          },
          "metadata": {},
          "execution_count": 10
        }
      ]
    },
    {
      "cell_type": "markdown",
      "source": [
        "Snowball Stemmer\n",
        "\n",
        "The Snowball Stemmer, compared to the Porter Stemmer, is multi-lingual as it can handle non-English words. It supports various languages and is based on the ‘Snowball’ programming language, known for efficient processing of small strings.\n",
        "\n",
        "The Snowball stemmer is way more aggressive than Porter Stemmer and is also referred to as Porter2 Stemmer. Because of the improvements added when compared to the Porter Stemmer, the Snowball stemmer is having greater computational speed"
      ],
      "metadata": {
        "id": "R-EOB6-1CpuI"
      }
    },
    {
      "cell_type": "code",
      "source": [
        " from nltk.stem import SnowballStemmer\n",
        " snow_stemmer = SnowballStemmer(language='english')"
      ],
      "metadata": {
        "id": "mlKU7I3qBif0"
      },
      "execution_count": 11,
      "outputs": []
    },
    {
      "cell_type": "code",
      "source": [
        "for word in words:\n",
        "  print(word+\"---->\"+snow_stemmer.stem(word))"
      ],
      "metadata": {
        "colab": {
          "base_uri": "https://localhost:8080/"
        },
        "id": "Tgo-pFuOD4u8",
        "outputId": "38daff16-8d21-423b-ec96-2fbcd822bdf0"
      },
      "execution_count": 12,
      "outputs": [
        {
          "output_type": "stream",
          "name": "stdout",
          "text": [
            "running---->run\n",
            "jumps---->jump\n",
            "happily---->happili\n",
            "running---->run\n",
            "happily---->happili\n"
          ]
        }
      ]
    },
    {
      "cell_type": "code",
      "source": [
        "stemmer.stem(\"fairly\"),stemmer.stem(\"sportingly\")"
      ],
      "metadata": {
        "colab": {
          "base_uri": "https://localhost:8080/"
        },
        "id": "ZgGjo7LPD-C1",
        "outputId": "8b0812bd-b2f8-473e-df90-62b9f58e87fb"
      },
      "execution_count": 13,
      "outputs": [
        {
          "output_type": "execute_result",
          "data": {
            "text/plain": [
              "('fairli', 'sportingli')"
            ]
          },
          "metadata": {},
          "execution_count": 13
        }
      ]
    },
    {
      "cell_type": "code",
      "source": [
        "snow_stemmer.stem(\"fairly\"),snow_stemmer.stem(\"sportingly\")"
      ],
      "metadata": {
        "colab": {
          "base_uri": "https://localhost:8080/"
        },
        "id": "3UGx8Yq8Efw3",
        "outputId": "86bde5a0-508d-4de8-ce3d-a278921d155d"
      },
      "execution_count": 15,
      "outputs": [
        {
          "output_type": "execute_result",
          "data": {
            "text/plain": [
              "('fair', 'sport')"
            ]
          },
          "metadata": {},
          "execution_count": 15
        }
      ]
    },
    {
      "cell_type": "code",
      "source": [],
      "metadata": {
        "id": "HvIsAemsEkP3"
      },
      "execution_count": null,
      "outputs": []
    }
  ]
}