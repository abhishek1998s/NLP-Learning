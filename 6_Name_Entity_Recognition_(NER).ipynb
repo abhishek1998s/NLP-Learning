{
  "nbformat": 4,
  "nbformat_minor": 0,
  "metadata": {
    "colab": {
      "provenance": [],
      "authorship_tag": "ABX9TyMoIgZMoCqrq3Ftw2p4FilP",
      "include_colab_link": true
    },
    "kernelspec": {
      "name": "python3",
      "display_name": "Python 3"
    },
    "language_info": {
      "name": "python"
    }
  },
  "cells": [
    {
      "cell_type": "markdown",
      "metadata": {
        "id": "view-in-github",
        "colab_type": "text"
      },
      "source": [
        "<a href=\"https://colab.research.google.com/github/abhishek1998s/NLP-Learning/blob/main/6_Name_Entity_Recognition_(NER).ipynb\" target=\"_parent\"><img src=\"https://colab.research.google.com/assets/colab-badge.svg\" alt=\"Open In Colab\"/></a>"
      ]
    },
    {
      "cell_type": "markdown",
      "source": [
        "Named Entity Recognition (NER) is a crucial task in Natural Language Processing (NLP) that involves identifying and classifying key entities in text into predefined categories. These categories typically include:\n",
        "\n",
        "Person Names (e.g., \"Albert Einstein\")\n",
        "\n",
        "Organizations (e.g., \"OpenAI\", \"United Nations\")\n",
        "\n",
        "Locations (e.g., \"Paris\", \"Mount Everest\")\n",
        "\n",
        "Dates and Times (e.g., \"January 1, 2020\", \"3 PM\")\n",
        "\n",
        "Monetary Values (e.g., \"$100\", \"€50\")\n",
        "\n",
        "Percentages (e.g., \"50%\")\n",
        "\n",
        "Miscellaneous (e.g., product names, event names)\n"
      ],
      "metadata": {
        "id": "qDbvr1savrFL"
      }
    },
    {
      "cell_type": "code",
      "execution_count": 1,
      "metadata": {
        "id": "0rW6qEXcvXIp"
      },
      "outputs": [],
      "source": [
        "text = \"Apple was founded by Steve Jobs and Steve Wozniak in Cupertino.\""
      ]
    },
    {
      "cell_type": "code",
      "source": [
        "import nltk\n",
        "nltk.download('punkt')\n",
        "nltk.download('punkt_tab')\n",
        "word=nltk.word_tokenize(text)"
      ],
      "metadata": {
        "colab": {
          "base_uri": "https://localhost:8080/"
        },
        "id": "QNWNDb1fzGTX",
        "outputId": "0395f7db-ee8e-4d55-f2aa-772db8e6f0ac"
      },
      "execution_count": 5,
      "outputs": [
        {
          "output_type": "stream",
          "name": "stderr",
          "text": [
            "[nltk_data] Downloading package punkt to /root/nltk_data...\n",
            "[nltk_data]   Package punkt is already up-to-date!\n",
            "[nltk_data] Downloading package punkt_tab to /root/nltk_data...\n",
            "[nltk_data]   Package punkt_tab is already up-to-date!\n"
          ]
        }
      ]
    },
    {
      "cell_type": "code",
      "source": [
        "import nltk\n",
        "nltk.download('averaged_perceptron_tagger_eng')\n",
        "tag_element=nltk.pos_tag(word)"
      ],
      "metadata": {
        "colab": {
          "base_uri": "https://localhost:8080/"
        },
        "id": "_C2ka8ByzNsr",
        "outputId": "84003c43-0918-4a25-bfa5-f7e8aec27c0f"
      },
      "execution_count": 9,
      "outputs": [
        {
          "output_type": "stream",
          "name": "stderr",
          "text": [
            "[nltk_data] Downloading package averaged_perceptron_tagger_eng to\n",
            "[nltk_data]     /root/nltk_data...\n",
            "[nltk_data]   Unzipping taggers/averaged_perceptron_tagger_eng.zip.\n"
          ]
        }
      ]
    },
    {
      "cell_type": "code",
      "source": [
        "tag_element"
      ],
      "metadata": {
        "colab": {
          "base_uri": "https://localhost:8080/"
        },
        "id": "AwnC15Lpzylj",
        "outputId": "25e38f96-5542-4d1a-c265-f32fe22048a1"
      },
      "execution_count": 10,
      "outputs": [
        {
          "output_type": "execute_result",
          "data": {
            "text/plain": [
              "[('Apple', 'NNP'),\n",
              " ('was', 'VBD'),\n",
              " ('founded', 'VBN'),\n",
              " ('by', 'IN'),\n",
              " ('Steve', 'NNP'),\n",
              " ('Jobs', 'NNP'),\n",
              " ('and', 'CC'),\n",
              " ('Steve', 'NNP'),\n",
              " ('Wozniak', 'NNP'),\n",
              " ('in', 'IN'),\n",
              " ('Cupertino', 'NNP'),\n",
              " ('.', '.')]"
            ]
          },
          "metadata": {},
          "execution_count": 10
        }
      ]
    },
    {
      "cell_type": "code",
      "source": [
        "nltk.download('maxent_ne_chunker_tab')\n",
        "nltk.download('words')\n",
        "named_entities=nltk.ne_chunk(tag_element)\n",
        "named_entities.draw"
      ],
      "metadata": {
        "colab": {
          "base_uri": "https://localhost:8080/",
          "height": 208
        },
        "id": "l9A1Hqi30Jau",
        "outputId": "c3d31bb4-e5db-491c-80d0-7da38873066b"
      },
      "execution_count": 17,
      "outputs": [
        {
          "output_type": "stream",
          "name": "stderr",
          "text": [
            "[nltk_data] Downloading package maxent_ne_chunker_tab to\n",
            "[nltk_data]     /root/nltk_data...\n",
            "[nltk_data]   Package maxent_ne_chunker_tab is already up-to-date!\n",
            "[nltk_data] Downloading package words to /root/nltk_data...\n",
            "[nltk_data]   Package words is already up-to-date!\n"
          ]
        },
        {
          "output_type": "execute_result",
          "data": {
            "text/plain": [
              "<bound method Tree.draw of Tree('S', [Tree('PERSON', [('Apple', 'NNP')]), ('was', 'VBD'), ('founded', 'VBN'), ('by', 'IN'), Tree('PERSON', [('Steve', 'NNP'), ('Jobs', 'NNP')]), ('and', 'CC'), Tree('PERSON', [('Steve', 'NNP'), ('Wozniak', 'NNP')]), ('in', 'IN'), Tree('GPE', [('Cupertino', 'NNP')]), ('.', '.')])>"
            ],
            "text/html": [
              "<div style=\"max-width:800px; border: 1px solid var(--colab-border-color);\"><style>\n",
              "      pre.function-repr-contents {\n",
              "        overflow-x: auto;\n",
              "        padding: 8px 12px;\n",
              "        max-height: 500px;\n",
              "      }\n",
              "\n",
              "      pre.function-repr-contents.function-repr-contents-collapsed {\n",
              "        cursor: pointer;\n",
              "        max-height: 100px;\n",
              "      }\n",
              "    </style>\n",
              "    <pre style=\"white-space: initial; background:\n",
              "         var(--colab-secondary-surface-color); padding: 8px 12px;\n",
              "         border-bottom: 1px solid var(--colab-border-color);\"><b>nltk.tree.tree.Tree.draw</b><br/>def draw()</pre><pre class=\"function-repr-contents function-repr-contents-collapsed\" style=\"\"><a class=\"filepath\" style=\"display:none\" href=\"#\">/usr/local/lib/python3.10/dist-packages/nltk/tree/tree.py</a>Open a new window containing a graphical diagram of this tree.</pre>\n",
              "      <script>\n",
              "      if (google.colab.kernel.accessAllowed && google.colab.files && google.colab.files.view) {\n",
              "        for (const element of document.querySelectorAll('.filepath')) {\n",
              "          element.style.display = 'block'\n",
              "          element.onclick = (event) => {\n",
              "            event.preventDefault();\n",
              "            event.stopPropagation();\n",
              "            google.colab.files.view(element.textContent, 755);\n",
              "          };\n",
              "        }\n",
              "      }\n",
              "      for (const element of document.querySelectorAll('.function-repr-contents')) {\n",
              "        element.onclick = (event) => {\n",
              "          event.preventDefault();\n",
              "          event.stopPropagation();\n",
              "          element.classList.toggle('function-repr-contents-collapsed');\n",
              "        };\n",
              "      }\n",
              "      </script>\n",
              "      </div>"
            ]
          },
          "metadata": {},
          "execution_count": 17
        }
      ]
    },
    {
      "cell_type": "code",
      "source": [
        ""
      ],
      "metadata": {
        "id": "sSiowkQ10pdK"
      },
      "execution_count": null,
      "outputs": []
    }
  ]
}